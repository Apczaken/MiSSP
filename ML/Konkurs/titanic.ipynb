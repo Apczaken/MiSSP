{
 "cells": [
  {
   "cell_type": "code",
   "execution_count": 1,
   "id": "45af699a",
   "metadata": {
    "_cell_guid": "b1076dfc-b9ad-4769-8c92-a6c4dae69d19",
    "_uuid": "8f2839f25d086af736a60e9eeb907d3b93b6e0e5",
    "execution": {
     "iopub.execute_input": "2025-01-26T14:36:58.537645Z",
     "iopub.status.busy": "2025-01-26T14:36:58.537243Z",
     "iopub.status.idle": "2025-01-26T14:36:59.492594Z",
     "shell.execute_reply": "2025-01-26T14:36:59.491246Z"
    },
    "papermill": {
     "duration": 0.961446,
     "end_time": "2025-01-26T14:36:59.494764",
     "exception": false,
     "start_time": "2025-01-26T14:36:58.533318",
     "status": "completed"
    },
    "tags": []
   },
   "outputs": [
    {
     "name": "stdout",
     "output_type": "stream",
     "text": [
      "/kaggle/input/titanic/train.csv\n",
      "/kaggle/input/titanic/test.csv\n",
      "/kaggle/input/titanic/gender_submission.csv\n"
     ]
    }
   ],
   "source": [
    "# This Python 3 environment comes with many helpful analytics libraries installed\n",
    "# It is defined by the kaggle/python Docker image: https://github.com/kaggle/docker-python\n",
    "# For example, here's several helpful packages to load\n",
    "\n",
    "import numpy as np # linear algebra\n",
    "import pandas as pd # data processing, CSV file I/O (e.g. pd.read_csv)\n",
    "\n",
    "# Input data files are available in the read-only \"../input/\" directory\n",
    "# For example, running this (by clicking run or pressing Shift+Enter) will list all files under the input directory\n",
    "\n",
    "import os\n",
    "for dirname, _, filenames in os.walk('/kaggle/input'):\n",
    "    for filename in filenames:\n",
    "        print(os.path.join(dirname, filename))\n",
    "\n",
    "# You can write up to 20GB to the current directory (/kaggle/working/) that gets preserved as output when you create a version using \"Save & Run All\" \n",
    "# You can also write temporary files to /kaggle/temp/, but they won't be saved outside of the current session"
   ]
  },
  {
   "cell_type": "code",
   "execution_count": 2,
   "id": "02b533d6",
   "metadata": {
    "execution": {
     "iopub.execute_input": "2025-01-26T14:36:59.500930Z",
     "iopub.status.busy": "2025-01-26T14:36:59.500425Z",
     "iopub.status.idle": "2025-01-26T14:37:01.397566Z",
     "shell.execute_reply": "2025-01-26T14:37:01.396385Z"
    },
    "papermill": {
     "duration": 1.902293,
     "end_time": "2025-01-26T14:37:01.399591",
     "exception": false,
     "start_time": "2025-01-26T14:36:59.497298",
     "status": "completed"
    },
    "tags": []
   },
   "outputs": [],
   "source": [
    "from sklearn.ensemble import RandomForestClassifier"
   ]
  },
  {
   "cell_type": "code",
   "execution_count": 3,
   "id": "a80d9b98",
   "metadata": {
    "execution": {
     "iopub.execute_input": "2025-01-26T14:37:01.405731Z",
     "iopub.status.busy": "2025-01-26T14:37:01.405194Z",
     "iopub.status.idle": "2025-01-26T14:37:01.435146Z",
     "shell.execute_reply": "2025-01-26T14:37:01.434020Z"
    },
    "papermill": {
     "duration": 0.035131,
     "end_time": "2025-01-26T14:37:01.437133",
     "exception": false,
     "start_time": "2025-01-26T14:37:01.402002",
     "status": "completed"
    },
    "tags": []
   },
   "outputs": [],
   "source": [
    "#Przypisanie ścieżek plików do zmiennych\n",
    "titanic_train_file_path = '/kaggle/input/titanic/train.csv'\n",
    "\n",
    "titanic_test_file_path = '/kaggle/input/titanic/test.csv'\n",
    "\n",
    "#Odczytanie plików z danymi\n",
    "train_data = pd.read_csv(titanic_train_file_path)\n",
    "\n",
    "test_data = pd.read_csv(titanic_test_file_path)"
   ]
  },
  {
   "cell_type": "code",
   "execution_count": 4,
   "id": "65854601",
   "metadata": {
    "execution": {
     "iopub.execute_input": "2025-01-26T14:37:01.442857Z",
     "iopub.status.busy": "2025-01-26T14:37:01.442529Z",
     "iopub.status.idle": "2025-01-26T14:37:01.658025Z",
     "shell.execute_reply": "2025-01-26T14:37:01.657057Z"
    },
    "papermill": {
     "duration": 0.220638,
     "end_time": "2025-01-26T14:37:01.660199",
     "exception": false,
     "start_time": "2025-01-26T14:37:01.439561",
     "status": "completed"
    },
    "tags": []
   },
   "outputs": [],
   "source": [
    "#Wybranie celu predykcji\n",
    "y=train_data.Survived\n",
    "\n",
    "#Wybranie danych, na podstawie których model będzie prowadził rozpoznanie.\n",
    "titanic_features_names=[\"Pclass\",\"Sex\",\"Parch\",\"SibSp\",\"Embarked\"]\n",
    "\n",
    "#Zmiana wartości nieliczbowych na zastępcze wartości liczbowe\n",
    "X = pd.get_dummies(train_data[titanic_features_names])\n",
    "X_test = pd.get_dummies(test_data[titanic_features_names])\n",
    "\n",
    "#Wybór modelu. Wybralem model RandomForest, ponieważ po sprawdzeniu modelu DecisionTree i RandomForest, model RandomForest jest dokladniejszy w przewidywaniu.\n",
    "titanic_model = RandomForestClassifier(random_state=1)\n",
    "\n",
    "#Dopasowanie modelu na podstawie danych do trenowania.\n",
    "titanic_model.fit(X, y)\n",
    "\n",
    "#Przewidzenie przeżycia pasażerów na podstawie danych testowych\n",
    "predictions = titanic_model.predict(X_test)"
   ]
  },
  {
   "cell_type": "code",
   "execution_count": 5,
   "id": "badfae49",
   "metadata": {
    "execution": {
     "iopub.execute_input": "2025-01-26T14:37:01.667047Z",
     "iopub.status.busy": "2025-01-26T14:37:01.666723Z",
     "iopub.status.idle": "2025-01-26T14:37:01.679237Z",
     "shell.execute_reply": "2025-01-26T14:37:01.678092Z"
    },
    "papermill": {
     "duration": 0.01738,
     "end_time": "2025-01-26T14:37:01.681140",
     "exception": false,
     "start_time": "2025-01-26T14:37:01.663760",
     "status": "completed"
    },
    "tags": []
   },
   "outputs": [],
   "source": [
    "#Zapis pliku konkursowego\n",
    "output = pd.DataFrame({'PassengerId': test_data.PassengerId, 'Survived': predictions})\n",
    "output.to_csv('submission.csv', index=False)"
   ]
  }
 ],
 "metadata": {
  "kaggle": {
   "accelerator": "none",
   "dataSources": [
    {
     "databundleVersionId": 26502,
     "sourceId": 3136,
     "sourceType": "competition"
    }
   ],
   "dockerImageVersionId": 30839,
   "isGpuEnabled": false,
   "isInternetEnabled": false,
   "language": "python",
   "sourceType": "notebook"
  },
  "kernelspec": {
   "display_name": "Python 3",
   "language": "python",
   "name": "python3"
  },
  "language_info": {
   "codemirror_mode": {
    "name": "ipython",
    "version": 3
   },
   "file_extension": ".py",
   "mimetype": "text/x-python",
   "name": "python",
   "nbconvert_exporter": "python",
   "pygments_lexer": "ipython3",
   "version": "3.10.12"
  },
  "papermill": {
   "default_parameters": {},
   "duration": 6.665562,
   "end_time": "2025-01-26T14:37:02.403278",
   "environment_variables": {},
   "exception": null,
   "input_path": "__notebook__.ipynb",
   "output_path": "__notebook__.ipynb",
   "parameters": {},
   "start_time": "2025-01-26T14:36:55.737716",
   "version": "2.6.0"
  }
 },
 "nbformat": 4,
 "nbformat_minor": 5
}
